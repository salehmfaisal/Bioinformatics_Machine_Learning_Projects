{
  "nbformat": 4,
  "nbformat_minor": 0,
  "metadata": {
    "colab": {
      "name": "FLAML Notebook.ipynb",
      "provenance": [],
      "collapsed_sections": [],
      "authorship_tag": "ABX9TyOnjs54kI58HZ3/pIrD1L0d",
      "include_colab_link": true
    },
    "kernelspec": {
      "name": "python3",
      "display_name": "Python 3"
    },
    "language_info": {
      "name": "python"
    }
  },
  "cells": [
    {
      "cell_type": "markdown",
      "metadata": {
        "id": "view-in-github",
        "colab_type": "text"
      },
      "source": [
        "<a href=\"https://colab.research.google.com/github/salehmfaisal/Abu-Saleh-Mosa-Faisal/blob/master/FLAML_Notebook.ipynb\" target=\"_parent\"><img src=\"https://colab.research.google.com/assets/colab-badge.svg\" alt=\"Open In Colab\"/></a>"
      ]
    },
    {
      "cell_type": "markdown",
      "metadata": {
        "id": "bMQmDirxI_xd"
      },
      "source": [
        "#### Machine Learning Modeling with FLAML"
      ]
    },
    {
      "cell_type": "markdown",
      "metadata": {
        "id": "GJXKVCSaJIl0"
      },
      "source": [
        "#### Install FLAML"
      ]
    },
    {
      "cell_type": "code",
      "metadata": {
        "colab": {
          "base_uri": "https://localhost:8080/"
        },
        "id": "TY8IbQRaJLXZ",
        "outputId": "b64cdb27-e8c9-4c52-fd25-48b886b1bba0"
      },
      "source": [
        "! pip install flaml"
      ],
      "execution_count": 1,
      "outputs": [
        {
          "output_type": "stream",
          "name": "stdout",
          "text": [
            "Collecting flaml\n",
            "  Downloading FLAML-0.6.0-py3-none-any.whl (221 kB)\n",
            "\u001b[?25l\r\u001b[K     |█▌                              | 10 kB 16.8 MB/s eta 0:00:01\r\u001b[K     |███                             | 20 kB 19.8 MB/s eta 0:00:01\r\u001b[K     |████▍                           | 30 kB 22.0 MB/s eta 0:00:01\r\u001b[K     |██████                          | 40 kB 23.4 MB/s eta 0:00:01\r\u001b[K     |███████▍                        | 51 kB 24.6 MB/s eta 0:00:01\r\u001b[K     |████████▉                       | 61 kB 27.1 MB/s eta 0:00:01\r\u001b[K     |██████████▍                     | 71 kB 25.4 MB/s eta 0:00:01\r\u001b[K     |███████████▉                    | 81 kB 27.0 MB/s eta 0:00:01\r\u001b[K     |█████████████▎                  | 92 kB 27.3 MB/s eta 0:00:01\r\u001b[K     |██████████████▊                 | 102 kB 26.9 MB/s eta 0:00:01\r\u001b[K     |████████████████▎               | 112 kB 26.9 MB/s eta 0:00:01\r\u001b[K     |█████████████████▊              | 122 kB 26.9 MB/s eta 0:00:01\r\u001b[K     |███████████████████▏            | 133 kB 26.9 MB/s eta 0:00:01\r\u001b[K     |████████████████████▊           | 143 kB 26.9 MB/s eta 0:00:01\r\u001b[K     |██████████████████████▏         | 153 kB 26.9 MB/s eta 0:00:01\r\u001b[K     |███████████████████████▋        | 163 kB 26.9 MB/s eta 0:00:01\r\u001b[K     |█████████████████████████▏      | 174 kB 26.9 MB/s eta 0:00:01\r\u001b[K     |██████████████████████████▋     | 184 kB 26.9 MB/s eta 0:00:01\r\u001b[K     |████████████████████████████    | 194 kB 26.9 MB/s eta 0:00:01\r\u001b[K     |█████████████████████████████▌  | 204 kB 26.9 MB/s eta 0:00:01\r\u001b[K     |███████████████████████████████ | 215 kB 26.9 MB/s eta 0:00:01\r\u001b[K     |████████████████████████████████| 221 kB 26.9 MB/s \n",
            "\u001b[?25hRequirement already satisfied: xgboost>=0.90 in /usr/local/lib/python3.7/dist-packages (from flaml) (0.90)\n",
            "Collecting scikit-learn>=0.23.2\n",
            "  Downloading scikit_learn-0.24.2-cp37-cp37m-manylinux2010_x86_64.whl (22.3 MB)\n",
            "\u001b[K     |████████████████████████████████| 22.3 MB 1.3 MB/s \n",
            "\u001b[?25hCollecting catboost>=0.23\n",
            "  Downloading catboost-0.26.1-cp37-none-manylinux1_x86_64.whl (67.4 MB)\n",
            "\u001b[K     |████████████████████████████████| 67.4 MB 25 kB/s \n",
            "\u001b[?25hRequirement already satisfied: scipy>=1.4.1 in /usr/local/lib/python3.7/dist-packages (from flaml) (1.4.1)\n",
            "Requirement already satisfied: NumPy>=1.16.2 in /usr/local/lib/python3.7/dist-packages (from flaml) (1.19.5)\n",
            "Collecting lightgbm>=2.3.1\n",
            "  Downloading lightgbm-3.2.1-py3-none-manylinux1_x86_64.whl (2.0 MB)\n",
            "\u001b[K     |████████████████████████████████| 2.0 MB 29.3 MB/s \n",
            "\u001b[?25hRequirement already satisfied: matplotlib in /usr/local/lib/python3.7/dist-packages (from catboost>=0.23->flaml) (3.2.2)\n",
            "Requirement already satisfied: six in /usr/local/lib/python3.7/dist-packages (from catboost>=0.23->flaml) (1.15.0)\n",
            "Requirement already satisfied: plotly in /usr/local/lib/python3.7/dist-packages (from catboost>=0.23->flaml) (4.4.1)\n",
            "Requirement already satisfied: graphviz in /usr/local/lib/python3.7/dist-packages (from catboost>=0.23->flaml) (0.10.1)\n",
            "Requirement already satisfied: pandas>=0.24.0 in /usr/local/lib/python3.7/dist-packages (from catboost>=0.23->flaml) (1.1.5)\n",
            "Requirement already satisfied: wheel in /usr/local/lib/python3.7/dist-packages (from lightgbm>=2.3.1->flaml) (0.37.0)\n",
            "Requirement already satisfied: pytz>=2017.2 in /usr/local/lib/python3.7/dist-packages (from pandas>=0.24.0->catboost>=0.23->flaml) (2018.9)\n",
            "Requirement already satisfied: python-dateutil>=2.7.3 in /usr/local/lib/python3.7/dist-packages (from pandas>=0.24.0->catboost>=0.23->flaml) (2.8.2)\n",
            "Requirement already satisfied: joblib>=0.11 in /usr/local/lib/python3.7/dist-packages (from scikit-learn>=0.23.2->flaml) (1.0.1)\n",
            "Collecting threadpoolctl>=2.0.0\n",
            "  Downloading threadpoolctl-2.2.0-py3-none-any.whl (12 kB)\n",
            "Requirement already satisfied: cycler>=0.10 in /usr/local/lib/python3.7/dist-packages (from matplotlib->catboost>=0.23->flaml) (0.10.0)\n",
            "Requirement already satisfied: kiwisolver>=1.0.1 in /usr/local/lib/python3.7/dist-packages (from matplotlib->catboost>=0.23->flaml) (1.3.1)\n",
            "Requirement already satisfied: pyparsing!=2.0.4,!=2.1.2,!=2.1.6,>=2.0.1 in /usr/local/lib/python3.7/dist-packages (from matplotlib->catboost>=0.23->flaml) (2.4.7)\n",
            "Requirement already satisfied: retrying>=1.3.3 in /usr/local/lib/python3.7/dist-packages (from plotly->catboost>=0.23->flaml) (1.3.3)\n",
            "Installing collected packages: threadpoolctl, scikit-learn, lightgbm, catboost, flaml\n",
            "  Attempting uninstall: scikit-learn\n",
            "    Found existing installation: scikit-learn 0.22.2.post1\n",
            "    Uninstalling scikit-learn-0.22.2.post1:\n",
            "      Successfully uninstalled scikit-learn-0.22.2.post1\n",
            "  Attempting uninstall: lightgbm\n",
            "    Found existing installation: lightgbm 2.2.3\n",
            "    Uninstalling lightgbm-2.2.3:\n",
            "      Successfully uninstalled lightgbm-2.2.3\n",
            "Successfully installed catboost-0.26.1 flaml-0.6.0 lightgbm-3.2.1 scikit-learn-0.24.2 threadpoolctl-2.2.0\n"
          ]
        }
      ]
    },
    {
      "cell_type": "code",
      "metadata": {
        "colab": {
          "base_uri": "https://localhost:8080/",
          "height": 1000
        },
        "id": "JD-hllZOJbcL",
        "outputId": "46487a51-b32f-43d6-a620-2cd1049e3e2b"
      },
      "source": [
        "! pip install flaml[notebook]"
      ],
      "execution_count": 2,
      "outputs": [
        {
          "output_type": "stream",
          "name": "stdout",
          "text": [
            "Requirement already satisfied: flaml[notebook] in /usr/local/lib/python3.7/dist-packages (0.6.0)\n",
            "Requirement already satisfied: lightgbm>=2.3.1 in /usr/local/lib/python3.7/dist-packages (from flaml[notebook]) (3.2.1)\n",
            "Requirement already satisfied: catboost>=0.23 in /usr/local/lib/python3.7/dist-packages (from flaml[notebook]) (0.26.1)\n",
            "Requirement already satisfied: xgboost>=0.90 in /usr/local/lib/python3.7/dist-packages (from flaml[notebook]) (0.90)\n",
            "Requirement already satisfied: scikit-learn>=0.23.2 in /usr/local/lib/python3.7/dist-packages (from flaml[notebook]) (0.24.2)\n",
            "Requirement already satisfied: NumPy>=1.16.2 in /usr/local/lib/python3.7/dist-packages (from flaml[notebook]) (1.19.5)\n",
            "Requirement already satisfied: scipy>=1.4.1 in /usr/local/lib/python3.7/dist-packages (from flaml[notebook]) (1.4.1)\n",
            "Collecting vowpalwabbit\n",
            "  Downloading vowpalwabbit-8.11.0-cp37-cp37m-manylinux2010_x86_64.whl (2.6 MB)\n",
            "\u001b[K     |████████████████████████████████| 2.6 MB 29.6 MB/s \n",
            "\u001b[?25hCollecting matplotlib==3.2.0\n",
            "  Downloading matplotlib-3.2.0-cp37-cp37m-manylinux1_x86_64.whl (12.4 MB)\n",
            "\u001b[K     |████████████████████████████████| 12.4 MB 165 kB/s \n",
            "\u001b[?25hCollecting rgf-python\n",
            "  Downloading rgf_python-3.11.0-py3-none-manylinux1_x86_64.whl (757 kB)\n",
            "\u001b[K     |████████████████████████████████| 757 kB 52.2 MB/s \n",
            "\u001b[?25hCollecting openml==0.10.2\n",
            "  Downloading openml-0.10.2.tar.gz (158 kB)\n",
            "\u001b[K     |████████████████████████████████| 158 kB 62.7 MB/s \n",
            "\u001b[?25hRequirement already satisfied: jupyter in /usr/local/lib/python3.7/dist-packages (from flaml[notebook]) (1.0.0)\n",
            "Requirement already satisfied: pyparsing!=2.0.4,!=2.1.2,!=2.1.6,>=2.0.1 in /usr/local/lib/python3.7/dist-packages (from matplotlib==3.2.0->flaml[notebook]) (2.4.7)\n",
            "Requirement already satisfied: kiwisolver>=1.0.1 in /usr/local/lib/python3.7/dist-packages (from matplotlib==3.2.0->flaml[notebook]) (1.3.1)\n",
            "Requirement already satisfied: python-dateutil>=2.1 in /usr/local/lib/python3.7/dist-packages (from matplotlib==3.2.0->flaml[notebook]) (2.8.2)\n",
            "Requirement already satisfied: cycler>=0.10 in /usr/local/lib/python3.7/dist-packages (from matplotlib==3.2.0->flaml[notebook]) (0.10.0)\n",
            "Collecting liac-arff>=2.4.0\n",
            "  Downloading liac-arff-2.5.0.tar.gz (13 kB)\n",
            "Collecting xmltodict\n",
            "  Downloading xmltodict-0.12.0-py2.py3-none-any.whl (9.2 kB)\n",
            "Requirement already satisfied: requests in /usr/local/lib/python3.7/dist-packages (from openml==0.10.2->flaml[notebook]) (2.23.0)\n",
            "Requirement already satisfied: pandas>=0.19.2 in /usr/local/lib/python3.7/dist-packages (from openml==0.10.2->flaml[notebook]) (1.1.5)\n",
            "Requirement already satisfied: plotly in /usr/local/lib/python3.7/dist-packages (from catboost>=0.23->flaml[notebook]) (4.4.1)\n",
            "Requirement already satisfied: six in /usr/local/lib/python3.7/dist-packages (from catboost>=0.23->flaml[notebook]) (1.15.0)\n",
            "Requirement already satisfied: graphviz in /usr/local/lib/python3.7/dist-packages (from catboost>=0.23->flaml[notebook]) (0.10.1)\n",
            "Requirement already satisfied: wheel in /usr/local/lib/python3.7/dist-packages (from lightgbm>=2.3.1->flaml[notebook]) (0.37.0)\n",
            "Requirement already satisfied: pytz>=2017.2 in /usr/local/lib/python3.7/dist-packages (from pandas>=0.19.2->openml==0.10.2->flaml[notebook]) (2018.9)\n",
            "Requirement already satisfied: threadpoolctl>=2.0.0 in /usr/local/lib/python3.7/dist-packages (from scikit-learn>=0.23.2->flaml[notebook]) (2.2.0)\n",
            "Requirement already satisfied: joblib>=0.11 in /usr/local/lib/python3.7/dist-packages (from scikit-learn>=0.23.2->flaml[notebook]) (1.0.1)\n",
            "Requirement already satisfied: jupyter-console in /usr/local/lib/python3.7/dist-packages (from jupyter->flaml[notebook]) (5.2.0)\n",
            "Requirement already satisfied: ipykernel in /usr/local/lib/python3.7/dist-packages (from jupyter->flaml[notebook]) (4.10.1)\n",
            "Requirement already satisfied: notebook in /usr/local/lib/python3.7/dist-packages (from jupyter->flaml[notebook]) (5.3.1)\n",
            "Requirement already satisfied: nbconvert in /usr/local/lib/python3.7/dist-packages (from jupyter->flaml[notebook]) (5.6.1)\n",
            "Requirement already satisfied: qtconsole in /usr/local/lib/python3.7/dist-packages (from jupyter->flaml[notebook]) (5.1.1)\n",
            "Requirement already satisfied: ipywidgets in /usr/local/lib/python3.7/dist-packages (from jupyter->flaml[notebook]) (7.6.3)\n",
            "Requirement already satisfied: jupyter-client in /usr/local/lib/python3.7/dist-packages (from ipykernel->jupyter->flaml[notebook]) (5.3.5)\n",
            "Requirement already satisfied: traitlets>=4.1.0 in /usr/local/lib/python3.7/dist-packages (from ipykernel->jupyter->flaml[notebook]) (5.0.5)\n",
            "Requirement already satisfied: ipython>=4.0.0 in /usr/local/lib/python3.7/dist-packages (from ipykernel->jupyter->flaml[notebook]) (5.5.0)\n",
            "Requirement already satisfied: tornado>=4.0 in /usr/local/lib/python3.7/dist-packages (from ipykernel->jupyter->flaml[notebook]) (5.1.1)\n",
            "Requirement already satisfied: prompt-toolkit<2.0.0,>=1.0.4 in /usr/local/lib/python3.7/dist-packages (from ipython>=4.0.0->ipykernel->jupyter->flaml[notebook]) (1.0.18)\n",
            "Requirement already satisfied: setuptools>=18.5 in /usr/local/lib/python3.7/dist-packages (from ipython>=4.0.0->ipykernel->jupyter->flaml[notebook]) (57.4.0)\n",
            "Requirement already satisfied: pygments in /usr/local/lib/python3.7/dist-packages (from ipython>=4.0.0->ipykernel->jupyter->flaml[notebook]) (2.6.1)\n",
            "Requirement already satisfied: decorator in /usr/local/lib/python3.7/dist-packages (from ipython>=4.0.0->ipykernel->jupyter->flaml[notebook]) (4.4.2)\n",
            "Requirement already satisfied: pickleshare in /usr/local/lib/python3.7/dist-packages (from ipython>=4.0.0->ipykernel->jupyter->flaml[notebook]) (0.7.5)\n",
            "Requirement already satisfied: pexpect in /usr/local/lib/python3.7/dist-packages (from ipython>=4.0.0->ipykernel->jupyter->flaml[notebook]) (4.8.0)\n",
            "Requirement already satisfied: simplegeneric>0.8 in /usr/local/lib/python3.7/dist-packages (from ipython>=4.0.0->ipykernel->jupyter->flaml[notebook]) (0.8.1)\n",
            "Requirement already satisfied: wcwidth in /usr/local/lib/python3.7/dist-packages (from prompt-toolkit<2.0.0,>=1.0.4->ipython>=4.0.0->ipykernel->jupyter->flaml[notebook]) (0.2.5)\n",
            "Requirement already satisfied: ipython-genutils in /usr/local/lib/python3.7/dist-packages (from traitlets>=4.1.0->ipykernel->jupyter->flaml[notebook]) (0.2.0)\n",
            "Requirement already satisfied: widgetsnbextension~=3.5.0 in /usr/local/lib/python3.7/dist-packages (from ipywidgets->jupyter->flaml[notebook]) (3.5.1)\n",
            "Requirement already satisfied: jupyterlab-widgets>=1.0.0 in /usr/local/lib/python3.7/dist-packages (from ipywidgets->jupyter->flaml[notebook]) (1.0.0)\n",
            "Requirement already satisfied: nbformat>=4.2.0 in /usr/local/lib/python3.7/dist-packages (from ipywidgets->jupyter->flaml[notebook]) (5.1.3)\n",
            "Requirement already satisfied: jupyter-core in /usr/local/lib/python3.7/dist-packages (from nbformat>=4.2.0->ipywidgets->jupyter->flaml[notebook]) (4.7.1)\n",
            "Requirement already satisfied: jsonschema!=2.5.0,>=2.4 in /usr/local/lib/python3.7/dist-packages (from nbformat>=4.2.0->ipywidgets->jupyter->flaml[notebook]) (2.6.0)\n",
            "Requirement already satisfied: Send2Trash in /usr/local/lib/python3.7/dist-packages (from notebook->jupyter->flaml[notebook]) (1.8.0)\n",
            "Requirement already satisfied: terminado>=0.8.1 in /usr/local/lib/python3.7/dist-packages (from notebook->jupyter->flaml[notebook]) (0.11.0)\n",
            "Requirement already satisfied: jinja2 in /usr/local/lib/python3.7/dist-packages (from notebook->jupyter->flaml[notebook]) (2.11.3)\n",
            "Requirement already satisfied: pyzmq>=13 in /usr/local/lib/python3.7/dist-packages (from jupyter-client->ipykernel->jupyter->flaml[notebook]) (22.2.1)\n",
            "Requirement already satisfied: ptyprocess in /usr/local/lib/python3.7/dist-packages (from terminado>=0.8.1->notebook->jupyter->flaml[notebook]) (0.7.0)\n",
            "Requirement already satisfied: MarkupSafe>=0.23 in /usr/local/lib/python3.7/dist-packages (from jinja2->notebook->jupyter->flaml[notebook]) (2.0.1)\n",
            "Requirement already satisfied: pandocfilters>=1.4.1 in /usr/local/lib/python3.7/dist-packages (from nbconvert->jupyter->flaml[notebook]) (1.4.3)\n",
            "Requirement already satisfied: bleach in /usr/local/lib/python3.7/dist-packages (from nbconvert->jupyter->flaml[notebook]) (4.0.0)\n",
            "Requirement already satisfied: testpath in /usr/local/lib/python3.7/dist-packages (from nbconvert->jupyter->flaml[notebook]) (0.5.0)\n",
            "Requirement already satisfied: defusedxml in /usr/local/lib/python3.7/dist-packages (from nbconvert->jupyter->flaml[notebook]) (0.7.1)\n",
            "Requirement already satisfied: entrypoints>=0.2.2 in /usr/local/lib/python3.7/dist-packages (from nbconvert->jupyter->flaml[notebook]) (0.3)\n",
            "Requirement already satisfied: mistune<2,>=0.8.1 in /usr/local/lib/python3.7/dist-packages (from nbconvert->jupyter->flaml[notebook]) (0.8.4)\n",
            "Requirement already satisfied: webencodings in /usr/local/lib/python3.7/dist-packages (from bleach->nbconvert->jupyter->flaml[notebook]) (0.5.1)\n",
            "Requirement already satisfied: packaging in /usr/local/lib/python3.7/dist-packages (from bleach->nbconvert->jupyter->flaml[notebook]) (21.0)\n",
            "Requirement already satisfied: retrying>=1.3.3 in /usr/local/lib/python3.7/dist-packages (from plotly->catboost>=0.23->flaml[notebook]) (1.3.3)\n",
            "Requirement already satisfied: qtpy in /usr/local/lib/python3.7/dist-packages (from qtconsole->jupyter->flaml[notebook]) (1.10.0)\n",
            "Requirement already satisfied: idna<3,>=2.5 in /usr/local/lib/python3.7/dist-packages (from requests->openml==0.10.2->flaml[notebook]) (2.10)\n",
            "Requirement already satisfied: chardet<4,>=3.0.2 in /usr/local/lib/python3.7/dist-packages (from requests->openml==0.10.2->flaml[notebook]) (3.0.4)\n",
            "Requirement already satisfied: urllib3!=1.25.0,!=1.25.1,<1.26,>=1.21.1 in /usr/local/lib/python3.7/dist-packages (from requests->openml==0.10.2->flaml[notebook]) (1.24.3)\n",
            "Requirement already satisfied: certifi>=2017.4.17 in /usr/local/lib/python3.7/dist-packages (from requests->openml==0.10.2->flaml[notebook]) (2021.5.30)\n",
            "Building wheels for collected packages: openml, liac-arff\n",
            "  Building wheel for openml (setup.py) ... \u001b[?25l\u001b[?25hdone\n",
            "  Created wheel for openml: filename=openml-0.10.2-py3-none-any.whl size=190318 sha256=61253ec4e75ef94e0a7270346c710e9bb14bebe4b3a7539ae87beb94e05b099e\n",
            "  Stored in directory: /root/.cache/pip/wheels/9c/9e/f3/6a5ebf16527d7fe22d9bc1652bc9beb5dc9fcfdeb75e805400\n",
            "  Building wheel for liac-arff (setup.py) ... \u001b[?25l\u001b[?25hdone\n",
            "  Created wheel for liac-arff: filename=liac_arff-2.5.0-py3-none-any.whl size=11731 sha256=07d14b5f41fe37c2e3c743d1e903b3d7d01e71894bc3ebe284f77b640d859c34\n",
            "  Stored in directory: /root/.cache/pip/wheels/1f/0f/15/332ca86cbebf25ddf98518caaf887945fbe1712b97a0f2493b\n",
            "Successfully built openml liac-arff\n",
            "Installing collected packages: matplotlib, xmltodict, liac-arff, vowpalwabbit, rgf-python, openml\n",
            "  Attempting uninstall: matplotlib\n",
            "    Found existing installation: matplotlib 3.2.2\n",
            "    Uninstalling matplotlib-3.2.2:\n",
            "      Successfully uninstalled matplotlib-3.2.2\n",
            "\u001b[31mERROR: pip's dependency resolver does not currently take into account all the packages that are installed. This behaviour is the source of the following dependency conflicts.\n",
            "albumentations 0.1.12 requires imgaug<0.2.7,>=0.2.5, but you have imgaug 0.2.9 which is incompatible.\u001b[0m\n",
            "Successfully installed liac-arff-2.5.0 matplotlib-3.2.0 openml-0.10.2 rgf-python-3.11.0 vowpalwabbit-8.11.0 xmltodict-0.12.0\n"
          ]
        },
        {
          "output_type": "display_data",
          "data": {
            "application/vnd.colab-display-data+json": {
              "pip_warning": {
                "packages": [
                  "matplotlib",
                  "mpl_toolkits"
                ]
              }
            }
          },
          "metadata": {}
        }
      ]
    },
    {
      "cell_type": "markdown",
      "metadata": {
        "id": "_zU8XMzaJq4V"
      },
      "source": [
        "#### Building a classification model"
      ]
    },
    {
      "cell_type": "markdown",
      "metadata": {
        "id": "QGzag7BPMxCM"
      },
      "source": [
        "### Load Data"
      ]
    },
    {
      "cell_type": "code",
      "metadata": {
        "colab": {
          "base_uri": "https://localhost:8080/",
          "height": 424
        },
        "id": "vyOgFuL7M4M6",
        "outputId": "cb948533-4f04-49f0-c306-3e4171e5db6c"
      },
      "source": [
        "import pandas as pd\n",
        "df=pd.read_csv('https://raw.githubusercontent.com/dataprofessor/data/master/delaney_solubility_with_descriptors.csv')\n",
        "df"
      ],
      "execution_count": 6,
      "outputs": [
        {
          "output_type": "execute_result",
          "data": {
            "text/html": [
              "<div>\n",
              "<style scoped>\n",
              "    .dataframe tbody tr th:only-of-type {\n",
              "        vertical-align: middle;\n",
              "    }\n",
              "\n",
              "    .dataframe tbody tr th {\n",
              "        vertical-align: top;\n",
              "    }\n",
              "\n",
              "    .dataframe thead th {\n",
              "        text-align: right;\n",
              "    }\n",
              "</style>\n",
              "<table border=\"1\" class=\"dataframe\">\n",
              "  <thead>\n",
              "    <tr style=\"text-align: right;\">\n",
              "      <th></th>\n",
              "      <th>MolLogP</th>\n",
              "      <th>MolWt</th>\n",
              "      <th>NumRotatableBonds</th>\n",
              "      <th>AromaticProportion</th>\n",
              "      <th>logS</th>\n",
              "    </tr>\n",
              "  </thead>\n",
              "  <tbody>\n",
              "    <tr>\n",
              "      <th>0</th>\n",
              "      <td>2.59540</td>\n",
              "      <td>167.850</td>\n",
              "      <td>0.0</td>\n",
              "      <td>0.000000</td>\n",
              "      <td>-2.180</td>\n",
              "    </tr>\n",
              "    <tr>\n",
              "      <th>1</th>\n",
              "      <td>2.37650</td>\n",
              "      <td>133.405</td>\n",
              "      <td>0.0</td>\n",
              "      <td>0.000000</td>\n",
              "      <td>-2.000</td>\n",
              "    </tr>\n",
              "    <tr>\n",
              "      <th>2</th>\n",
              "      <td>2.59380</td>\n",
              "      <td>167.850</td>\n",
              "      <td>1.0</td>\n",
              "      <td>0.000000</td>\n",
              "      <td>-1.740</td>\n",
              "    </tr>\n",
              "    <tr>\n",
              "      <th>3</th>\n",
              "      <td>2.02890</td>\n",
              "      <td>133.405</td>\n",
              "      <td>1.0</td>\n",
              "      <td>0.000000</td>\n",
              "      <td>-1.480</td>\n",
              "    </tr>\n",
              "    <tr>\n",
              "      <th>4</th>\n",
              "      <td>2.91890</td>\n",
              "      <td>187.375</td>\n",
              "      <td>1.0</td>\n",
              "      <td>0.000000</td>\n",
              "      <td>-3.040</td>\n",
              "    </tr>\n",
              "    <tr>\n",
              "      <th>...</th>\n",
              "      <td>...</td>\n",
              "      <td>...</td>\n",
              "      <td>...</td>\n",
              "      <td>...</td>\n",
              "      <td>...</td>\n",
              "    </tr>\n",
              "    <tr>\n",
              "      <th>1139</th>\n",
              "      <td>1.98820</td>\n",
              "      <td>287.343</td>\n",
              "      <td>8.0</td>\n",
              "      <td>0.000000</td>\n",
              "      <td>1.144</td>\n",
              "    </tr>\n",
              "    <tr>\n",
              "      <th>1140</th>\n",
              "      <td>3.42130</td>\n",
              "      <td>286.114</td>\n",
              "      <td>2.0</td>\n",
              "      <td>0.333333</td>\n",
              "      <td>-4.925</td>\n",
              "    </tr>\n",
              "    <tr>\n",
              "      <th>1141</th>\n",
              "      <td>3.60960</td>\n",
              "      <td>308.333</td>\n",
              "      <td>4.0</td>\n",
              "      <td>0.695652</td>\n",
              "      <td>-3.893</td>\n",
              "    </tr>\n",
              "    <tr>\n",
              "      <th>1142</th>\n",
              "      <td>2.56214</td>\n",
              "      <td>354.815</td>\n",
              "      <td>3.0</td>\n",
              "      <td>0.521739</td>\n",
              "      <td>-3.790</td>\n",
              "    </tr>\n",
              "    <tr>\n",
              "      <th>1143</th>\n",
              "      <td>2.02164</td>\n",
              "      <td>179.219</td>\n",
              "      <td>1.0</td>\n",
              "      <td>0.461538</td>\n",
              "      <td>-2.581</td>\n",
              "    </tr>\n",
              "  </tbody>\n",
              "</table>\n",
              "<p>1144 rows × 5 columns</p>\n",
              "</div>"
            ],
            "text/plain": [
              "      MolLogP    MolWt  NumRotatableBonds  AromaticProportion   logS\n",
              "0     2.59540  167.850                0.0            0.000000 -2.180\n",
              "1     2.37650  133.405                0.0            0.000000 -2.000\n",
              "2     2.59380  167.850                1.0            0.000000 -1.740\n",
              "3     2.02890  133.405                1.0            0.000000 -1.480\n",
              "4     2.91890  187.375                1.0            0.000000 -3.040\n",
              "...       ...      ...                ...                 ...    ...\n",
              "1139  1.98820  287.343                8.0            0.000000  1.144\n",
              "1140  3.42130  286.114                2.0            0.333333 -4.925\n",
              "1141  3.60960  308.333                4.0            0.695652 -3.893\n",
              "1142  2.56214  354.815                3.0            0.521739 -3.790\n",
              "1143  2.02164  179.219                1.0            0.461538 -2.581\n",
              "\n",
              "[1144 rows x 5 columns]"
            ]
          },
          "metadata": {},
          "execution_count": 6
        }
      ]
    },
    {
      "cell_type": "code",
      "metadata": {
        "colab": {
          "base_uri": "https://localhost:8080/",
          "height": 424
        },
        "id": "KJE6T7WzNjMG",
        "outputId": "0a86e256-a856-4370-98f4-6c324f50cb53"
      },
      "source": [
        "X= df.drop('logS', axis=1)\n",
        "X"
      ],
      "execution_count": 7,
      "outputs": [
        {
          "output_type": "execute_result",
          "data": {
            "text/html": [
              "<div>\n",
              "<style scoped>\n",
              "    .dataframe tbody tr th:only-of-type {\n",
              "        vertical-align: middle;\n",
              "    }\n",
              "\n",
              "    .dataframe tbody tr th {\n",
              "        vertical-align: top;\n",
              "    }\n",
              "\n",
              "    .dataframe thead th {\n",
              "        text-align: right;\n",
              "    }\n",
              "</style>\n",
              "<table border=\"1\" class=\"dataframe\">\n",
              "  <thead>\n",
              "    <tr style=\"text-align: right;\">\n",
              "      <th></th>\n",
              "      <th>MolLogP</th>\n",
              "      <th>MolWt</th>\n",
              "      <th>NumRotatableBonds</th>\n",
              "      <th>AromaticProportion</th>\n",
              "    </tr>\n",
              "  </thead>\n",
              "  <tbody>\n",
              "    <tr>\n",
              "      <th>0</th>\n",
              "      <td>2.59540</td>\n",
              "      <td>167.850</td>\n",
              "      <td>0.0</td>\n",
              "      <td>0.000000</td>\n",
              "    </tr>\n",
              "    <tr>\n",
              "      <th>1</th>\n",
              "      <td>2.37650</td>\n",
              "      <td>133.405</td>\n",
              "      <td>0.0</td>\n",
              "      <td>0.000000</td>\n",
              "    </tr>\n",
              "    <tr>\n",
              "      <th>2</th>\n",
              "      <td>2.59380</td>\n",
              "      <td>167.850</td>\n",
              "      <td>1.0</td>\n",
              "      <td>0.000000</td>\n",
              "    </tr>\n",
              "    <tr>\n",
              "      <th>3</th>\n",
              "      <td>2.02890</td>\n",
              "      <td>133.405</td>\n",
              "      <td>1.0</td>\n",
              "      <td>0.000000</td>\n",
              "    </tr>\n",
              "    <tr>\n",
              "      <th>4</th>\n",
              "      <td>2.91890</td>\n",
              "      <td>187.375</td>\n",
              "      <td>1.0</td>\n",
              "      <td>0.000000</td>\n",
              "    </tr>\n",
              "    <tr>\n",
              "      <th>...</th>\n",
              "      <td>...</td>\n",
              "      <td>...</td>\n",
              "      <td>...</td>\n",
              "      <td>...</td>\n",
              "    </tr>\n",
              "    <tr>\n",
              "      <th>1139</th>\n",
              "      <td>1.98820</td>\n",
              "      <td>287.343</td>\n",
              "      <td>8.0</td>\n",
              "      <td>0.000000</td>\n",
              "    </tr>\n",
              "    <tr>\n",
              "      <th>1140</th>\n",
              "      <td>3.42130</td>\n",
              "      <td>286.114</td>\n",
              "      <td>2.0</td>\n",
              "      <td>0.333333</td>\n",
              "    </tr>\n",
              "    <tr>\n",
              "      <th>1141</th>\n",
              "      <td>3.60960</td>\n",
              "      <td>308.333</td>\n",
              "      <td>4.0</td>\n",
              "      <td>0.695652</td>\n",
              "    </tr>\n",
              "    <tr>\n",
              "      <th>1142</th>\n",
              "      <td>2.56214</td>\n",
              "      <td>354.815</td>\n",
              "      <td>3.0</td>\n",
              "      <td>0.521739</td>\n",
              "    </tr>\n",
              "    <tr>\n",
              "      <th>1143</th>\n",
              "      <td>2.02164</td>\n",
              "      <td>179.219</td>\n",
              "      <td>1.0</td>\n",
              "      <td>0.461538</td>\n",
              "    </tr>\n",
              "  </tbody>\n",
              "</table>\n",
              "<p>1144 rows × 4 columns</p>\n",
              "</div>"
            ],
            "text/plain": [
              "      MolLogP    MolWt  NumRotatableBonds  AromaticProportion\n",
              "0     2.59540  167.850                0.0            0.000000\n",
              "1     2.37650  133.405                0.0            0.000000\n",
              "2     2.59380  167.850                1.0            0.000000\n",
              "3     2.02890  133.405                1.0            0.000000\n",
              "4     2.91890  187.375                1.0            0.000000\n",
              "...       ...      ...                ...                 ...\n",
              "1139  1.98820  287.343                8.0            0.000000\n",
              "1140  3.42130  286.114                2.0            0.333333\n",
              "1141  3.60960  308.333                4.0            0.695652\n",
              "1142  2.56214  354.815                3.0            0.521739\n",
              "1143  2.02164  179.219                1.0            0.461538\n",
              "\n",
              "[1144 rows x 4 columns]"
            ]
          },
          "metadata": {},
          "execution_count": 7
        }
      ]
    },
    {
      "cell_type": "code",
      "metadata": {
        "colab": {
          "base_uri": "https://localhost:8080/"
        },
        "id": "2cmdHQpwNwnz",
        "outputId": "dfefde86-3d27-4d87-99b4-6e1d43122a41"
      },
      "source": [
        "y= df.logS\n",
        "y"
      ],
      "execution_count": 8,
      "outputs": [
        {
          "output_type": "execute_result",
          "data": {
            "text/plain": [
              "0      -2.180\n",
              "1      -2.000\n",
              "2      -1.740\n",
              "3      -1.480\n",
              "4      -3.040\n",
              "        ...  \n",
              "1139    1.144\n",
              "1140   -4.925\n",
              "1141   -3.893\n",
              "1142   -3.790\n",
              "1143   -2.581\n",
              "Name: logS, Length: 1144, dtype: float64"
            ]
          },
          "metadata": {},
          "execution_count": 8
        }
      ]
    },
    {
      "cell_type": "markdown",
      "metadata": {
        "id": "5eM2z2PkOdAU"
      },
      "source": [
        "**Data Splitting**"
      ]
    },
    {
      "cell_type": "code",
      "metadata": {
        "id": "rgmZzICJOgUG"
      },
      "source": [
        "from sklearn.model_selection import train_test_split\n",
        "X_train, X_test, y_train, y_test = train_test_split( X, y, test_size=0.2, random_state=42)"
      ],
      "execution_count": 9,
      "outputs": []
    },
    {
      "cell_type": "code",
      "metadata": {
        "colab": {
          "base_uri": "https://localhost:8080/"
        },
        "id": "ZiGr3YeIPFw9",
        "outputId": "ca58052e-dac7-47e2-840d-84eb77deaa01"
      },
      "source": [
        "X.shape, X_train.shape, X_test.shape"
      ],
      "execution_count": 12,
      "outputs": [
        {
          "output_type": "execute_result",
          "data": {
            "text/plain": [
              "((1144, 4), (915, 4), (229, 4))"
            ]
          },
          "metadata": {},
          "execution_count": 12
        }
      ]
    },
    {
      "cell_type": "code",
      "metadata": {
        "colab": {
          "base_uri": "https://localhost:8080/"
        },
        "id": "hzFigEWMPXnL",
        "outputId": "e064fa28-12bc-433c-ba7a-872e8a28f0e1"
      },
      "source": [
        "y.shape, y_train.shape, y_test.shape"
      ],
      "execution_count": 13,
      "outputs": [
        {
          "output_type": "execute_result",
          "data": {
            "text/plain": [
              "((1144,), (915,), (229,))"
            ]
          },
          "metadata": {},
          "execution_count": 13
        }
      ]
    },
    {
      "cell_type": "code",
      "metadata": {
        "colab": {
          "base_uri": "https://localhost:8080/"
        },
        "id": "jfT1ILlNJtzp",
        "outputId": "7437fccb-c34b-4635-e311-2363256909d0"
      },
      "source": [
        "from flaml import AutoML\n",
        "automl=AutoML()\n",
        "automl.fit(X_train, y_train, task=\"regression\")"
      ],
      "execution_count": 16,
      "outputs": [
        {
          "output_type": "stream",
          "name": "stderr",
          "text": [
            "[flaml.automl: 09-01 02:51:49] {1219} INFO - Evaluation method: cv\n",
            "[flaml.automl: 09-01 02:51:49] {698} INFO - Using RepeatedKFold\n",
            "[flaml.automl: 09-01 02:51:49] {1250} INFO - Minimizing error metric: 1-r2\n",
            "[flaml.automl: 09-01 02:51:49] {1275} INFO - List of ML learners in AutoML Run: ['lgbm', 'rf', 'catboost', 'xgboost', 'extra_tree']\n",
            "[flaml.automl: 09-01 02:51:49] {1458} INFO - iteration 0, current learner lgbm\n",
            "[flaml.automl: 09-01 02:51:50] {1620} INFO -  at 0.6s,\tbest lgbm's error=0.5960,\tbest lgbm's error=0.5960\n",
            "[flaml.automl: 09-01 02:51:50] {1458} INFO - iteration 1, current learner lgbm\n",
            "[flaml.automl: 09-01 02:51:51] {1620} INFO -  at 1.9s,\tbest lgbm's error=0.5960,\tbest lgbm's error=0.5960\n",
            "[flaml.automl: 09-01 02:51:51] {1458} INFO - iteration 2, current learner xgboost\n",
            "[flaml.automl: 09-01 02:51:51] {1620} INFO -  at 2.0s,\tbest xgboost's error=1.8696,\tbest lgbm's error=0.5960\n",
            "[flaml.automl: 09-01 02:51:51] {1458} INFO - iteration 3, current learner xgboost\n",
            "[flaml.automl: 09-01 02:51:51] {1620} INFO -  at 2.0s,\tbest xgboost's error=1.8696,\tbest lgbm's error=0.5960\n",
            "[flaml.automl: 09-01 02:51:51] {1458} INFO - iteration 4, current learner lgbm\n",
            "[flaml.automl: 09-01 02:51:51] {1620} INFO -  at 2.1s,\tbest lgbm's error=0.3100,\tbest lgbm's error=0.3100\n",
            "[flaml.automl: 09-01 02:51:51] {1458} INFO - iteration 5, current learner xgboost\n",
            "[flaml.automl: 09-01 02:51:51] {1620} INFO -  at 2.1s,\tbest xgboost's error=0.5805,\tbest lgbm's error=0.3100\n",
            "[flaml.automl: 09-01 02:51:51] {1458} INFO - iteration 6, current learner xgboost\n",
            "[flaml.automl: 09-01 02:51:51] {1620} INFO -  at 2.2s,\tbest xgboost's error=0.2893,\tbest xgboost's error=0.2893\n",
            "[flaml.automl: 09-01 02:51:51] {1458} INFO - iteration 7, current learner xgboost\n",
            "[flaml.automl: 09-01 02:51:51] {1620} INFO -  at 2.2s,\tbest xgboost's error=0.2893,\tbest xgboost's error=0.2893\n",
            "[flaml.automl: 09-01 02:51:51] {1458} INFO - iteration 8, current learner xgboost\n",
            "[flaml.automl: 09-01 02:51:51] {1620} INFO -  at 2.3s,\tbest xgboost's error=0.2893,\tbest xgboost's error=0.2893\n",
            "[flaml.automl: 09-01 02:51:51] {1458} INFO - iteration 9, current learner xgboost\n",
            "[flaml.automl: 09-01 02:51:51] {1620} INFO -  at 2.3s,\tbest xgboost's error=0.1926,\tbest xgboost's error=0.1926\n",
            "[flaml.automl: 09-01 02:51:51] {1458} INFO - iteration 10, current learner xgboost\n",
            "[flaml.automl: 09-01 02:51:51] {1620} INFO -  at 2.4s,\tbest xgboost's error=0.1926,\tbest xgboost's error=0.1926\n",
            "[flaml.automl: 09-01 02:51:51] {1458} INFO - iteration 11, current learner xgboost\n",
            "[flaml.automl: 09-01 02:51:51] {1620} INFO -  at 2.5s,\tbest xgboost's error=0.1926,\tbest xgboost's error=0.1926\n",
            "[flaml.automl: 09-01 02:51:51] {1458} INFO - iteration 12, current learner xgboost\n",
            "[flaml.automl: 09-01 02:51:52] {1620} INFO -  at 2.5s,\tbest xgboost's error=0.1926,\tbest xgboost's error=0.1926\n",
            "[flaml.automl: 09-01 02:51:52] {1458} INFO - iteration 13, current learner xgboost\n",
            "[flaml.automl: 09-01 02:51:52] {1620} INFO -  at 2.6s,\tbest xgboost's error=0.1926,\tbest xgboost's error=0.1926\n",
            "[flaml.automl: 09-01 02:51:52] {1458} INFO - iteration 14, current learner xgboost\n",
            "[flaml.automl: 09-01 02:51:52] {1620} INFO -  at 2.6s,\tbest xgboost's error=0.1926,\tbest xgboost's error=0.1926\n",
            "[flaml.automl: 09-01 02:51:52] {1458} INFO - iteration 15, current learner xgboost\n",
            "[flaml.automl: 09-01 02:51:52] {1620} INFO -  at 2.7s,\tbest xgboost's error=0.1764,\tbest xgboost's error=0.1764\n",
            "[flaml.automl: 09-01 02:51:52] {1458} INFO - iteration 16, current learner lgbm\n",
            "[flaml.automl: 09-01 02:51:52] {1620} INFO -  at 2.7s,\tbest lgbm's error=0.1847,\tbest xgboost's error=0.1764\n",
            "[flaml.automl: 09-01 02:51:52] {1458} INFO - iteration 17, current learner lgbm\n",
            "[flaml.automl: 09-01 02:51:52] {1620} INFO -  at 2.8s,\tbest lgbm's error=0.1847,\tbest xgboost's error=0.1764\n",
            "[flaml.automl: 09-01 02:51:52] {1458} INFO - iteration 18, current learner lgbm\n",
            "[flaml.automl: 09-01 02:51:52] {1620} INFO -  at 2.8s,\tbest lgbm's error=0.1847,\tbest xgboost's error=0.1764\n",
            "[flaml.automl: 09-01 02:51:52] {1458} INFO - iteration 19, current learner lgbm\n",
            "[flaml.automl: 09-01 02:51:52] {1620} INFO -  at 2.9s,\tbest lgbm's error=0.1847,\tbest xgboost's error=0.1764\n",
            "[flaml.automl: 09-01 02:51:52] {1458} INFO - iteration 20, current learner lgbm\n",
            "[flaml.automl: 09-01 02:51:52] {1620} INFO -  at 2.9s,\tbest lgbm's error=0.1847,\tbest xgboost's error=0.1764\n",
            "[flaml.automl: 09-01 02:51:52] {1458} INFO - iteration 21, current learner lgbm\n",
            "[flaml.automl: 09-01 02:51:52] {1620} INFO -  at 3.0s,\tbest lgbm's error=0.1809,\tbest xgboost's error=0.1764\n",
            "[flaml.automl: 09-01 02:51:52] {1458} INFO - iteration 22, current learner xgboost\n",
            "[flaml.automl: 09-01 02:51:52] {1620} INFO -  at 3.1s,\tbest xgboost's error=0.1764,\tbest xgboost's error=0.1764\n",
            "[flaml.automl: 09-01 02:51:52] {1458} INFO - iteration 23, current learner xgboost\n",
            "[flaml.automl: 09-01 02:51:52] {1620} INFO -  at 3.1s,\tbest xgboost's error=0.1764,\tbest xgboost's error=0.1764\n",
            "[flaml.automl: 09-01 02:51:52] {1458} INFO - iteration 24, current learner lgbm\n",
            "[flaml.automl: 09-01 02:51:52] {1620} INFO -  at 3.2s,\tbest lgbm's error=0.1809,\tbest xgboost's error=0.1764\n",
            "[flaml.automl: 09-01 02:51:52] {1458} INFO - iteration 25, current learner xgboost\n",
            "[flaml.automl: 09-01 02:51:52] {1620} INFO -  at 3.2s,\tbest xgboost's error=0.1764,\tbest xgboost's error=0.1764\n",
            "[flaml.automl: 09-01 02:51:52] {1458} INFO - iteration 26, current learner xgboost\n",
            "[flaml.automl: 09-01 02:51:52] {1620} INFO -  at 3.3s,\tbest xgboost's error=0.1764,\tbest xgboost's error=0.1764\n",
            "[flaml.automl: 09-01 02:51:52] {1458} INFO - iteration 27, current learner xgboost\n",
            "[flaml.automl: 09-01 02:51:52] {1620} INFO -  at 3.4s,\tbest xgboost's error=0.1764,\tbest xgboost's error=0.1764\n",
            "[flaml.automl: 09-01 02:51:52] {1458} INFO - iteration 28, current learner lgbm\n",
            "[flaml.automl: 09-01 02:51:52] {1620} INFO -  at 3.5s,\tbest lgbm's error=0.1456,\tbest lgbm's error=0.1456\n",
            "[flaml.automl: 09-01 02:51:52] {1458} INFO - iteration 29, current learner lgbm\n",
            "[flaml.automl: 09-01 02:51:53] {1620} INFO -  at 3.6s,\tbest lgbm's error=0.1456,\tbest lgbm's error=0.1456\n",
            "[flaml.automl: 09-01 02:51:53] {1458} INFO - iteration 30, current learner lgbm\n",
            "[flaml.automl: 09-01 02:51:53] {1620} INFO -  at 3.7s,\tbest lgbm's error=0.1456,\tbest lgbm's error=0.1456\n",
            "[flaml.automl: 09-01 02:51:53] {1458} INFO - iteration 31, current learner lgbm\n",
            "[flaml.automl: 09-01 02:51:53] {1620} INFO -  at 3.7s,\tbest lgbm's error=0.1456,\tbest lgbm's error=0.1456\n",
            "[flaml.automl: 09-01 02:51:53] {1458} INFO - iteration 32, current learner lgbm\n",
            "[flaml.automl: 09-01 02:51:53] {1620} INFO -  at 3.9s,\tbest lgbm's error=0.1456,\tbest lgbm's error=0.1456\n",
            "[flaml.automl: 09-01 02:51:53] {1458} INFO - iteration 33, current learner lgbm\n",
            "[flaml.automl: 09-01 02:51:53] {1620} INFO -  at 4.0s,\tbest lgbm's error=0.1456,\tbest lgbm's error=0.1456\n",
            "[flaml.automl: 09-01 02:51:53] {1458} INFO - iteration 34, current learner xgboost\n",
            "[flaml.automl: 09-01 02:51:53] {1620} INFO -  at 4.1s,\tbest xgboost's error=0.1732,\tbest lgbm's error=0.1456\n",
            "[flaml.automl: 09-01 02:51:53] {1458} INFO - iteration 35, current learner lgbm\n",
            "[flaml.automl: 09-01 02:51:53] {1620} INFO -  at 4.1s,\tbest lgbm's error=0.1456,\tbest lgbm's error=0.1456\n",
            "[flaml.automl: 09-01 02:51:53] {1458} INFO - iteration 36, current learner lgbm\n",
            "[flaml.automl: 09-01 02:51:53] {1620} INFO -  at 4.3s,\tbest lgbm's error=0.1456,\tbest lgbm's error=0.1456\n",
            "[flaml.automl: 09-01 02:51:53] {1458} INFO - iteration 37, current learner lgbm\n",
            "[flaml.automl: 09-01 02:51:53] {1620} INFO -  at 4.4s,\tbest lgbm's error=0.1456,\tbest lgbm's error=0.1456\n",
            "[flaml.automl: 09-01 02:51:53] {1458} INFO - iteration 38, current learner lgbm\n",
            "[flaml.automl: 09-01 02:51:53] {1620} INFO -  at 4.4s,\tbest lgbm's error=0.1456,\tbest lgbm's error=0.1456\n",
            "[flaml.automl: 09-01 02:51:53] {1458} INFO - iteration 39, current learner lgbm\n",
            "[flaml.automl: 09-01 02:51:54] {1620} INFO -  at 4.6s,\tbest lgbm's error=0.1456,\tbest lgbm's error=0.1456\n",
            "[flaml.automl: 09-01 02:51:54] {1458} INFO - iteration 40, current learner lgbm\n",
            "[flaml.automl: 09-01 02:51:54] {1620} INFO -  at 4.7s,\tbest lgbm's error=0.1456,\tbest lgbm's error=0.1456\n",
            "[flaml.automl: 09-01 02:51:54] {1458} INFO - iteration 41, current learner extra_tree\n",
            "[flaml.automl: 09-01 02:51:55] {1620} INFO -  at 5.9s,\tbest extra_tree's error=0.3954,\tbest lgbm's error=0.1456\n",
            "[flaml.automl: 09-01 02:51:55] {1458} INFO - iteration 42, current learner rf\n",
            "[flaml.automl: 09-01 02:51:56] {1620} INFO -  at 7.0s,\tbest rf's error=0.2751,\tbest lgbm's error=0.1456\n",
            "[flaml.automl: 09-01 02:51:56] {1458} INFO - iteration 43, current learner extra_tree\n",
            "[flaml.automl: 09-01 02:51:57] {1620} INFO -  at 8.2s,\tbest extra_tree's error=0.2761,\tbest lgbm's error=0.1456\n",
            "[flaml.automl: 09-01 02:51:57] {1458} INFO - iteration 44, current learner extra_tree\n",
            "[flaml.automl: 09-01 02:51:58] {1620} INFO -  at 9.4s,\tbest extra_tree's error=0.2761,\tbest lgbm's error=0.1456\n",
            "[flaml.automl: 09-01 02:51:58] {1458} INFO - iteration 45, current learner rf\n",
            "[flaml.automl: 09-01 02:52:00] {1620} INFO -  at 10.6s,\tbest rf's error=0.1884,\tbest lgbm's error=0.1456\n",
            "[flaml.automl: 09-01 02:52:00] {1458} INFO - iteration 46, current learner lgbm\n",
            "[flaml.automl: 09-01 02:52:00] {1620} INFO -  at 10.7s,\tbest lgbm's error=0.1456,\tbest lgbm's error=0.1456\n",
            "[flaml.automl: 09-01 02:52:00] {1458} INFO - iteration 47, current learner rf\n",
            "[flaml.automl: 09-01 02:52:01] {1620} INFO -  at 11.8s,\tbest rf's error=0.1884,\tbest lgbm's error=0.1456\n",
            "[flaml.automl: 09-01 02:52:01] {1458} INFO - iteration 48, current learner lgbm\n",
            "[flaml.automl: 09-01 02:52:01] {1620} INFO -  at 11.9s,\tbest lgbm's error=0.1456,\tbest lgbm's error=0.1456\n",
            "[flaml.automl: 09-01 02:52:01] {1458} INFO - iteration 49, current learner lgbm\n",
            "[flaml.automl: 09-01 02:52:01] {1620} INFO -  at 12.0s,\tbest lgbm's error=0.1456,\tbest lgbm's error=0.1456\n",
            "[flaml.automl: 09-01 02:52:01] {1458} INFO - iteration 50, current learner extra_tree\n",
            "[flaml.automl: 09-01 02:52:02] {1620} INFO -  at 13.3s,\tbest extra_tree's error=0.1971,\tbest lgbm's error=0.1456\n",
            "[flaml.automl: 09-01 02:52:02] {1458} INFO - iteration 51, current learner lgbm\n",
            "[flaml.automl: 09-01 02:52:02] {1620} INFO -  at 13.5s,\tbest lgbm's error=0.1456,\tbest lgbm's error=0.1456\n",
            "[flaml.automl: 09-01 02:52:02] {1458} INFO - iteration 52, current learner lgbm\n",
            "[flaml.automl: 09-01 02:52:03] {1620} INFO -  at 13.5s,\tbest lgbm's error=0.1456,\tbest lgbm's error=0.1456\n",
            "[flaml.automl: 09-01 02:52:03] {1458} INFO - iteration 53, current learner lgbm\n",
            "[flaml.automl: 09-01 02:52:03] {1620} INFO -  at 13.7s,\tbest lgbm's error=0.1456,\tbest lgbm's error=0.1456\n",
            "[flaml.automl: 09-01 02:52:03] {1458} INFO - iteration 54, current learner lgbm\n",
            "[flaml.automl: 09-01 02:52:03] {1620} INFO -  at 13.9s,\tbest lgbm's error=0.1456,\tbest lgbm's error=0.1456\n",
            "[flaml.automl: 09-01 02:52:03] {1458} INFO - iteration 55, current learner xgboost\n",
            "[flaml.automl: 09-01 02:52:03] {1620} INFO -  at 14.2s,\tbest xgboost's error=0.1732,\tbest lgbm's error=0.1456\n",
            "[flaml.automl: 09-01 02:52:03] {1458} INFO - iteration 56, current learner lgbm\n",
            "[flaml.automl: 09-01 02:52:03] {1620} INFO -  at 14.4s,\tbest lgbm's error=0.1456,\tbest lgbm's error=0.1456\n",
            "[flaml.automl: 09-01 02:52:03] {1458} INFO - iteration 57, current learner lgbm\n",
            "[flaml.automl: 09-01 02:52:04] {1620} INFO -  at 14.5s,\tbest lgbm's error=0.1456,\tbest lgbm's error=0.1456\n",
            "[flaml.automl: 09-01 02:52:04] {1458} INFO - iteration 58, current learner rf\n",
            "[flaml.automl: 09-01 02:52:05] {1620} INFO -  at 15.8s,\tbest rf's error=0.1587,\tbest lgbm's error=0.1456\n",
            "[flaml.automl: 09-01 02:52:05] {1458} INFO - iteration 59, current learner lgbm\n",
            "[flaml.automl: 09-01 02:52:05] {1620} INFO -  at 15.9s,\tbest lgbm's error=0.1456,\tbest lgbm's error=0.1456\n",
            "[flaml.automl: 09-01 02:52:05] {1458} INFO - iteration 60, current learner rf\n",
            "[flaml.automl: 09-01 02:52:06] {1620} INFO -  at 17.2s,\tbest rf's error=0.1536,\tbest lgbm's error=0.1456\n",
            "[flaml.automl: 09-01 02:52:06] {1458} INFO - iteration 61, current learner lgbm\n",
            "[flaml.automl: 09-01 02:52:06] {1620} INFO -  at 17.3s,\tbest lgbm's error=0.1456,\tbest lgbm's error=0.1456\n",
            "[flaml.automl: 09-01 02:52:06] {1458} INFO - iteration 62, current learner rf\n",
            "[flaml.automl: 09-01 02:52:08] {1620} INFO -  at 18.6s,\tbest rf's error=0.1536,\tbest lgbm's error=0.1456\n",
            "[flaml.automl: 09-01 02:52:08] {1458} INFO - iteration 63, current learner extra_tree\n",
            "[flaml.automl: 09-01 02:52:09] {1620} INFO -  at 19.9s,\tbest extra_tree's error=0.1580,\tbest lgbm's error=0.1456\n",
            "[flaml.automl: 09-01 02:52:09] {1458} INFO - iteration 64, current learner lgbm\n",
            "[flaml.automl: 09-01 02:52:09] {1620} INFO -  at 20.0s,\tbest lgbm's error=0.1456,\tbest lgbm's error=0.1456\n",
            "[flaml.automl: 09-01 02:52:09] {1458} INFO - iteration 65, current learner xgboost\n",
            "[flaml.automl: 09-01 02:52:09] {1620} INFO -  at 20.2s,\tbest xgboost's error=0.1523,\tbest lgbm's error=0.1456\n",
            "[flaml.automl: 09-01 02:52:09] {1458} INFO - iteration 66, current learner xgboost\n",
            "[flaml.automl: 09-01 02:52:09] {1620} INFO -  at 20.3s,\tbest xgboost's error=0.1461,\tbest lgbm's error=0.1456\n",
            "[flaml.automl: 09-01 02:52:09] {1458} INFO - iteration 67, current learner xgboost\n",
            "[flaml.automl: 09-01 02:52:09] {1620} INFO -  at 20.4s,\tbest xgboost's error=0.1461,\tbest lgbm's error=0.1456\n",
            "[flaml.automl: 09-01 02:52:09] {1458} INFO - iteration 68, current learner rf\n",
            "[flaml.automl: 09-01 02:52:11] {1620} INFO -  at 21.7s,\tbest rf's error=0.1536,\tbest lgbm's error=0.1456\n",
            "[flaml.automl: 09-01 02:52:11] {1458} INFO - iteration 69, current learner xgboost\n",
            "[flaml.automl: 09-01 02:52:11] {1620} INFO -  at 21.9s,\tbest xgboost's error=0.1461,\tbest lgbm's error=0.1456\n",
            "[flaml.automl: 09-01 02:52:11] {1458} INFO - iteration 70, current learner xgboost\n",
            "[flaml.automl: 09-01 02:52:11] {1620} INFO -  at 22.2s,\tbest xgboost's error=0.1461,\tbest lgbm's error=0.1456\n",
            "[flaml.automl: 09-01 02:52:11] {1458} INFO - iteration 71, current learner xgboost\n",
            "[flaml.automl: 09-01 02:52:11] {1620} INFO -  at 22.3s,\tbest xgboost's error=0.1461,\tbest lgbm's error=0.1456\n",
            "[flaml.automl: 09-01 02:52:11] {1458} INFO - iteration 72, current learner extra_tree\n",
            "[flaml.automl: 09-01 02:52:13] {1620} INFO -  at 23.7s,\tbest extra_tree's error=0.1580,\tbest lgbm's error=0.1456\n",
            "[flaml.automl: 09-01 02:52:13] {1458} INFO - iteration 73, current learner xgboost\n",
            "[flaml.automl: 09-01 02:52:13] {1620} INFO -  at 23.9s,\tbest xgboost's error=0.1461,\tbest lgbm's error=0.1456\n",
            "[flaml.automl: 09-01 02:52:13] {1458} INFO - iteration 74, current learner extra_tree\n",
            "[flaml.automl: 09-01 02:52:14] {1620} INFO -  at 25.2s,\tbest extra_tree's error=0.1561,\tbest lgbm's error=0.1456\n",
            "[flaml.automl: 09-01 02:52:14] {1458} INFO - iteration 75, current learner lgbm\n",
            "[flaml.automl: 09-01 02:52:14] {1620} INFO -  at 25.3s,\tbest lgbm's error=0.1456,\tbest lgbm's error=0.1456\n",
            "[flaml.automl: 09-01 02:52:14] {1458} INFO - iteration 76, current learner lgbm\n",
            "[flaml.automl: 09-01 02:52:14] {1620} INFO -  at 25.4s,\tbest lgbm's error=0.1456,\tbest lgbm's error=0.1456\n",
            "[flaml.automl: 09-01 02:52:14] {1458} INFO - iteration 77, current learner xgboost\n",
            "[flaml.automl: 09-01 02:52:15] {1620} INFO -  at 25.5s,\tbest xgboost's error=0.1461,\tbest lgbm's error=0.1456\n",
            "[flaml.automl: 09-01 02:52:15] {1458} INFO - iteration 78, current learner xgboost\n",
            "[flaml.automl: 09-01 02:52:15] {1620} INFO -  at 25.6s,\tbest xgboost's error=0.1461,\tbest lgbm's error=0.1456\n",
            "[flaml.automl: 09-01 02:52:15] {1458} INFO - iteration 79, current learner lgbm\n",
            "[flaml.automl: 09-01 02:52:15] {1620} INFO -  at 25.7s,\tbest lgbm's error=0.1456,\tbest lgbm's error=0.1456\n",
            "[flaml.automl: 09-01 02:52:15] {1458} INFO - iteration 80, current learner xgboost\n",
            "[flaml.automl: 09-01 02:52:15] {1620} INFO -  at 25.8s,\tbest xgboost's error=0.1461,\tbest lgbm's error=0.1456\n",
            "[flaml.automl: 09-01 02:52:15] {1458} INFO - iteration 81, current learner xgboost\n",
            "[flaml.automl: 09-01 02:52:15] {1620} INFO -  at 26.0s,\tbest xgboost's error=0.1398,\tbest xgboost's error=0.1398\n",
            "[flaml.automl: 09-01 02:52:15] {1458} INFO - iteration 82, current learner xgboost\n",
            "[flaml.automl: 09-01 02:52:15] {1620} INFO -  at 26.2s,\tbest xgboost's error=0.1398,\tbest xgboost's error=0.1398\n",
            "[flaml.automl: 09-01 02:52:15] {1458} INFO - iteration 83, current learner xgboost\n",
            "[flaml.automl: 09-01 02:52:15] {1620} INFO -  at 26.4s,\tbest xgboost's error=0.1398,\tbest xgboost's error=0.1398\n",
            "[flaml.automl: 09-01 02:52:15] {1458} INFO - iteration 84, current learner xgboost\n",
            "[flaml.automl: 09-01 02:52:16] {1620} INFO -  at 26.5s,\tbest xgboost's error=0.1398,\tbest xgboost's error=0.1398\n",
            "[flaml.automl: 09-01 02:52:16] {1458} INFO - iteration 85, current learner xgboost\n",
            "[flaml.automl: 09-01 02:52:16] {1620} INFO -  at 26.7s,\tbest xgboost's error=0.1398,\tbest xgboost's error=0.1398\n",
            "[flaml.automl: 09-01 02:52:16] {1458} INFO - iteration 86, current learner xgboost\n",
            "[flaml.automl: 09-01 02:52:16] {1620} INFO -  at 27.3s,\tbest xgboost's error=0.1398,\tbest xgboost's error=0.1398\n",
            "[flaml.automl: 09-01 02:52:16] {1458} INFO - iteration 87, current learner xgboost\n",
            "[flaml.automl: 09-01 02:52:16] {1620} INFO -  at 27.4s,\tbest xgboost's error=0.1398,\tbest xgboost's error=0.1398\n",
            "[flaml.automl: 09-01 02:52:16] {1458} INFO - iteration 88, current learner lgbm\n",
            "[flaml.automl: 09-01 02:52:17] {1620} INFO -  at 27.5s,\tbest lgbm's error=0.1456,\tbest xgboost's error=0.1398\n",
            "[flaml.automl: 09-01 02:52:17] {1458} INFO - iteration 89, current learner xgboost\n",
            "[flaml.automl: 09-01 02:52:17] {1620} INFO -  at 27.8s,\tbest xgboost's error=0.1387,\tbest xgboost's error=0.1387\n",
            "[flaml.automl: 09-01 02:52:17] {1458} INFO - iteration 90, current learner xgboost\n",
            "[flaml.automl: 09-01 02:52:17] {1620} INFO -  at 28.0s,\tbest xgboost's error=0.1387,\tbest xgboost's error=0.1387\n",
            "[flaml.automl: 09-01 02:52:17] {1458} INFO - iteration 91, current learner xgboost\n",
            "[flaml.automl: 09-01 02:52:17] {1620} INFO -  at 28.3s,\tbest xgboost's error=0.1387,\tbest xgboost's error=0.1387\n",
            "[flaml.automl: 09-01 02:52:17] {1458} INFO - iteration 92, current learner xgboost\n",
            "[flaml.automl: 09-01 02:52:18] {1620} INFO -  at 28.5s,\tbest xgboost's error=0.1387,\tbest xgboost's error=0.1387\n",
            "[flaml.automl: 09-01 02:52:18] {1458} INFO - iteration 93, current learner xgboost\n",
            "[flaml.automl: 09-01 02:52:18] {1620} INFO -  at 28.7s,\tbest xgboost's error=0.1387,\tbest xgboost's error=0.1387\n",
            "[flaml.automl: 09-01 02:52:18] {1458} INFO - iteration 94, current learner lgbm\n",
            "[flaml.automl: 09-01 02:52:18] {1620} INFO -  at 28.8s,\tbest lgbm's error=0.1456,\tbest xgboost's error=0.1387\n",
            "[flaml.automl: 09-01 02:52:18] {1458} INFO - iteration 95, current learner xgboost\n",
            "[flaml.automl: 09-01 02:52:18] {1620} INFO -  at 29.3s,\tbest xgboost's error=0.1386,\tbest xgboost's error=0.1386\n",
            "[flaml.automl: 09-01 02:52:18] {1458} INFO - iteration 96, current learner xgboost\n",
            "[flaml.automl: 09-01 02:52:19] {1620} INFO -  at 29.7s,\tbest xgboost's error=0.1386,\tbest xgboost's error=0.1386\n",
            "[flaml.automl: 09-01 02:52:19] {1458} INFO - iteration 97, current learner xgboost\n",
            "[flaml.automl: 09-01 02:52:19] {1620} INFO -  at 30.1s,\tbest xgboost's error=0.1386,\tbest xgboost's error=0.1386\n",
            "[flaml.automl: 09-01 02:52:19] {1458} INFO - iteration 98, current learner xgboost\n",
            "[flaml.automl: 09-01 02:52:19] {1620} INFO -  at 30.4s,\tbest xgboost's error=0.1386,\tbest xgboost's error=0.1386\n",
            "[flaml.automl: 09-01 02:52:19] {1458} INFO - iteration 99, current learner lgbm\n",
            "[flaml.automl: 09-01 02:52:20] {1620} INFO -  at 30.6s,\tbest lgbm's error=0.1456,\tbest xgboost's error=0.1386\n",
            "[flaml.automl: 09-01 02:52:20] {1458} INFO - iteration 100, current learner xgboost\n",
            "[flaml.automl: 09-01 02:52:20] {1620} INFO -  at 30.9s,\tbest xgboost's error=0.1386,\tbest xgboost's error=0.1386\n",
            "[flaml.automl: 09-01 02:52:20] {1458} INFO - iteration 101, current learner xgboost\n",
            "[flaml.automl: 09-01 02:52:20] {1620} INFO -  at 31.3s,\tbest xgboost's error=0.1386,\tbest xgboost's error=0.1386\n",
            "[flaml.automl: 09-01 02:52:20] {1458} INFO - iteration 102, current learner lgbm\n",
            "[flaml.automl: 09-01 02:52:20] {1620} INFO -  at 31.4s,\tbest lgbm's error=0.1456,\tbest xgboost's error=0.1386\n",
            "[flaml.automl: 09-01 02:52:20] {1458} INFO - iteration 103, current learner xgboost\n",
            "[flaml.automl: 09-01 02:52:21] {1620} INFO -  at 31.8s,\tbest xgboost's error=0.1358,\tbest xgboost's error=0.1358\n",
            "[flaml.automl: 09-01 02:52:21] {1458} INFO - iteration 104, current learner lgbm\n",
            "[flaml.automl: 09-01 02:52:21] {1620} INFO -  at 31.9s,\tbest lgbm's error=0.1456,\tbest xgboost's error=0.1358\n",
            "[flaml.automl: 09-01 02:52:21] {1458} INFO - iteration 105, current learner xgboost\n",
            "[flaml.automl: 09-01 02:52:21] {1620} INFO -  at 32.4s,\tbest xgboost's error=0.1358,\tbest xgboost's error=0.1358\n",
            "[flaml.automl: 09-01 02:52:21] {1458} INFO - iteration 106, current learner xgboost\n",
            "[flaml.automl: 09-01 02:52:22] {1620} INFO -  at 32.9s,\tbest xgboost's error=0.1358,\tbest xgboost's error=0.1358\n",
            "[flaml.automl: 09-01 02:52:22] {1458} INFO - iteration 107, current learner lgbm\n",
            "[flaml.automl: 09-01 02:52:22] {1620} INFO -  at 33.0s,\tbest lgbm's error=0.1398,\tbest xgboost's error=0.1358\n",
            "[flaml.automl: 09-01 02:52:22] {1458} INFO - iteration 108, current learner xgboost\n",
            "[flaml.automl: 09-01 02:52:23] {1620} INFO -  at 33.9s,\tbest xgboost's error=0.1313,\tbest xgboost's error=0.1313\n",
            "[flaml.automl: 09-01 02:52:23] {1458} INFO - iteration 109, current learner xgboost\n",
            "[flaml.automl: 09-01 02:52:23] {1620} INFO -  at 34.4s,\tbest xgboost's error=0.1313,\tbest xgboost's error=0.1313\n",
            "[flaml.automl: 09-01 02:52:23] {1458} INFO - iteration 110, current learner lgbm\n",
            "[flaml.automl: 09-01 02:52:24] {1620} INFO -  at 34.6s,\tbest lgbm's error=0.1398,\tbest xgboost's error=0.1313\n",
            "[flaml.automl: 09-01 02:52:24] {1458} INFO - iteration 111, current learner xgboost\n",
            "[flaml.automl: 09-01 02:52:25] {1620} INFO -  at 35.6s,\tbest xgboost's error=0.1313,\tbest xgboost's error=0.1313\n",
            "[flaml.automl: 09-01 02:52:25] {1458} INFO - iteration 112, current learner xgboost\n",
            "[flaml.automl: 09-01 02:52:26] {1620} INFO -  at 36.5s,\tbest xgboost's error=0.1313,\tbest xgboost's error=0.1313\n",
            "[flaml.automl: 09-01 02:52:26] {1458} INFO - iteration 113, current learner extra_tree\n",
            "[flaml.automl: 09-01 02:52:27] {1620} INFO -  at 37.8s,\tbest extra_tree's error=0.1561,\tbest xgboost's error=0.1313\n",
            "[flaml.automl: 09-01 02:52:27] {1458} INFO - iteration 114, current learner rf\n",
            "[flaml.automl: 09-01 02:52:28] {1620} INFO -  at 39.1s,\tbest rf's error=0.1536,\tbest xgboost's error=0.1313\n",
            "[flaml.automl: 09-01 02:52:28] {1458} INFO - iteration 115, current learner lgbm\n",
            "[flaml.automl: 09-01 02:52:28] {1620} INFO -  at 39.2s,\tbest lgbm's error=0.1398,\tbest xgboost's error=0.1313\n",
            "[flaml.automl: 09-01 02:52:28] {1458} INFO - iteration 116, current learner xgboost\n",
            "[flaml.automl: 09-01 02:52:29] {1620} INFO -  at 40.2s,\tbest xgboost's error=0.1302,\tbest xgboost's error=0.1302\n",
            "[flaml.automl: 09-01 02:52:29] {1458} INFO - iteration 117, current learner xgboost\n",
            "[flaml.automl: 09-01 02:52:30] {1620} INFO -  at 41.1s,\tbest xgboost's error=0.1302,\tbest xgboost's error=0.1302\n",
            "[flaml.automl: 09-01 02:52:30] {1458} INFO - iteration 118, current learner lgbm\n",
            "[flaml.automl: 09-01 02:52:30] {1620} INFO -  at 41.1s,\tbest lgbm's error=0.1398,\tbest xgboost's error=0.1302\n",
            "[flaml.automl: 09-01 02:52:30] {1458} INFO - iteration 119, current learner xgboost\n",
            "[flaml.automl: 09-01 02:52:32] {1620} INFO -  at 43.3s,\tbest xgboost's error=0.1302,\tbest xgboost's error=0.1302\n",
            "[flaml.automl: 09-01 02:52:32] {1458} INFO - iteration 120, current learner xgboost\n",
            "[flaml.automl: 09-01 02:52:33] {1620} INFO -  at 43.7s,\tbest xgboost's error=0.1302,\tbest xgboost's error=0.1302\n",
            "[flaml.automl: 09-01 02:52:33] {1458} INFO - iteration 121, current learner xgboost\n",
            "[flaml.automl: 09-01 02:52:33] {1620} INFO -  at 44.3s,\tbest xgboost's error=0.1302,\tbest xgboost's error=0.1302\n",
            "[flaml.automl: 09-01 02:52:33] {1458} INFO - iteration 122, current learner xgboost\n",
            "[flaml.automl: 09-01 02:52:35] {1620} INFO -  at 45.8s,\tbest xgboost's error=0.1302,\tbest xgboost's error=0.1302\n",
            "[flaml.automl: 09-01 02:52:35] {1458} INFO - iteration 123, current learner lgbm\n",
            "[flaml.automl: 09-01 02:52:35] {1620} INFO -  at 46.2s,\tbest lgbm's error=0.1398,\tbest xgboost's error=0.1302\n",
            "[flaml.automl: 09-01 02:52:35] {1458} INFO - iteration 124, current learner lgbm\n",
            "[flaml.automl: 09-01 02:52:35] {1620} INFO -  at 46.3s,\tbest lgbm's error=0.1398,\tbest xgboost's error=0.1302\n",
            "[flaml.automl: 09-01 02:52:35] {1458} INFO - iteration 125, current learner lgbm\n",
            "[flaml.automl: 09-01 02:52:36] {1620} INFO -  at 46.8s,\tbest lgbm's error=0.1391,\tbest xgboost's error=0.1302\n",
            "[flaml.automl: 09-01 02:52:36] {1458} INFO - iteration 126, current learner lgbm\n",
            "[flaml.automl: 09-01 02:52:36] {1620} INFO -  at 46.9s,\tbest lgbm's error=0.1391,\tbest xgboost's error=0.1302\n",
            "[flaml.automl: 09-01 02:52:36] {1458} INFO - iteration 127, current learner xgboost\n",
            "[flaml.automl: 09-01 02:52:37] {1620} INFO -  at 48.2s,\tbest xgboost's error=0.1302,\tbest xgboost's error=0.1302\n",
            "[flaml.automl: 09-01 02:52:37] {1458} INFO - iteration 128, current learner xgboost\n",
            "[flaml.automl: 09-01 02:52:38] {1620} INFO -  at 48.8s,\tbest xgboost's error=0.1302,\tbest xgboost's error=0.1302\n",
            "[flaml.automl: 09-01 02:52:38] {1458} INFO - iteration 129, current learner xgboost\n",
            "[flaml.automl: 09-01 02:52:39] {1620} INFO -  at 49.9s,\tbest xgboost's error=0.1302,\tbest xgboost's error=0.1302\n",
            "[flaml.automl: 09-01 02:52:39] {1458} INFO - iteration 130, current learner catboost\n",
            "[flaml.automl: 09-01 02:52:40] {1620} INFO -  at 50.7s,\tbest catboost's error=0.1378,\tbest xgboost's error=0.1302\n",
            "[flaml.automl: 09-01 02:52:40] {1458} INFO - iteration 131, current learner catboost\n",
            "[flaml.automl: 09-01 02:52:41] {1620} INFO -  at 51.6s,\tbest catboost's error=0.1378,\tbest xgboost's error=0.1302\n",
            "[flaml.automl: 09-01 02:52:41] {1458} INFO - iteration 132, current learner catboost\n",
            "[flaml.automl: 09-01 02:52:41] {1620} INFO -  at 52.3s,\tbest catboost's error=0.1378,\tbest xgboost's error=0.1302\n",
            "[flaml.automl: 09-01 02:52:41] {1458} INFO - iteration 133, current learner catboost\n",
            "[flaml.automl: 09-01 02:52:42] {1620} INFO -  at 53.1s,\tbest catboost's error=0.1378,\tbest xgboost's error=0.1302\n",
            "[flaml.automl: 09-01 02:52:42] {1458} INFO - iteration 134, current learner catboost\n",
            "[flaml.automl: 09-01 02:52:43] {1620} INFO -  at 53.7s,\tbest catboost's error=0.1377,\tbest xgboost's error=0.1302\n",
            "[flaml.automl: 09-01 02:52:43] {1458} INFO - iteration 135, current learner xgboost\n",
            "[flaml.automl: 09-01 02:52:43] {1620} INFO -  at 54.5s,\tbest xgboost's error=0.1300,\tbest xgboost's error=0.1300\n",
            "[flaml.automl: 09-01 02:52:43] {1458} INFO - iteration 136, current learner extra_tree\n",
            "[flaml.automl: 09-01 02:52:45] {1620} INFO -  at 55.9s,\tbest extra_tree's error=0.1506,\tbest xgboost's error=0.1300\n",
            "[flaml.automl: 09-01 02:52:45] {1458} INFO - iteration 137, current learner xgboost\n",
            "[flaml.automl: 09-01 02:52:45] {1620} INFO -  at 56.2s,\tbest xgboost's error=0.1300,\tbest xgboost's error=0.1300\n",
            "[flaml.automl: 09-01 02:52:45] {1458} INFO - iteration 138, current learner lgbm\n",
            "[flaml.automl: 09-01 02:52:46] {1620} INFO -  at 56.5s,\tbest lgbm's error=0.1391,\tbest xgboost's error=0.1300\n",
            "[flaml.automl: 09-01 02:52:46] {1458} INFO - iteration 139, current learner extra_tree\n",
            "[flaml.automl: 09-01 02:52:47] {1620} INFO -  at 57.9s,\tbest extra_tree's error=0.1506,\tbest xgboost's error=0.1300\n",
            "[flaml.automl: 09-01 02:52:47] {1458} INFO - iteration 140, current learner xgboost\n",
            "[flaml.automl: 09-01 02:52:49] {1620} INFO -  at 60.4s,\tbest xgboost's error=0.1300,\tbest xgboost's error=0.1300\n",
            "[flaml.automl: 09-01 02:52:49] {1691} INFO - selected model: <xgboost.core.Booster object at 0x7f94e9f8d310>\n",
            "[flaml.automl: 09-01 02:52:50] {1733} INFO - retrain xgboost for 0.2s\n",
            "[flaml.automl: 09-01 02:52:50] {1736} INFO - retrained model: <xgboost.core.Booster object at 0x7f94e9fa5350>\n",
            "[flaml.automl: 09-01 02:52:50] {1298} INFO - fit succeeded\n",
            "[flaml.automl: 09-01 02:52:50] {1299} INFO - Time taken to find the best model: 54.471656799316406\n",
            "[flaml.automl: 09-01 02:52:50] {1307} WARNING - Time taken to find the best model is 91% of the provided time budget and not all estimators' hyperparameter search converged. Consider increasing the time budget.\n"
          ]
        }
      ]
    },
    {
      "cell_type": "markdown",
      "metadata": {
        "id": "_67iUv0AQ1Wb"
      },
      "source": [
        "Print the best Model"
      ]
    },
    {
      "cell_type": "code",
      "metadata": {
        "colab": {
          "base_uri": "https://localhost:8080/"
        },
        "id": "jowVhWM-OXdD",
        "outputId": "2a920f79-78fa-4680-8d18-f3736f8ad255"
      },
      "source": [
        "print(automl.model)"
      ],
      "execution_count": 17,
      "outputs": [
        {
          "output_type": "stream",
          "name": "stdout",
          "text": [
            "<flaml.model.XGBoostEstimator object at 0x7f94e9f91cd0>\n"
          ]
        }
      ]
    },
    {
      "cell_type": "markdown",
      "metadata": {
        "id": "Kgjbskj7R5Te"
      },
      "source": [
        "# Prediction"
      ]
    },
    {
      "cell_type": "code",
      "metadata": {
        "id": "AmEYfZcxR-CT"
      },
      "source": [
        "y_test_predict=automl.predict(X_test)"
      ],
      "execution_count": 22,
      "outputs": []
    },
    {
      "cell_type": "code",
      "metadata": {
        "colab": {
          "base_uri": "https://localhost:8080/"
        },
        "id": "2_GfUWvsSUHo",
        "outputId": "8c8114e6-928f-4094-980f-40d49c1ea6c2"
      },
      "source": [
        "y_test_predict"
      ],
      "execution_count": 23,
      "outputs": [
        {
          "output_type": "execute_result",
          "data": {
            "text/plain": [
              "array([-0.92885447, -5.9472146 , -4.7084727 , -3.3444452 , -0.7344321 ,\n",
              "       -4.938797  , -0.52295697, -4.4509773 , -3.6967978 , -3.3015995 ,\n",
              "       -1.8388236 , -1.3453759 , -3.5350137 , -2.4264548 , -3.3628218 ,\n",
              "       -2.3250241 , -3.0975313 , -4.3131404 , -0.9267986 , -2.2464368 ,\n",
              "       -3.8534846 , -1.6174524 , -4.4079595 , -2.8543057 ,  0.8939849 ,\n",
              "       -0.2351579 , -2.7571564 , -5.421992  , -3.4896336 , -4.0931807 ,\n",
              "       -2.4020844 , -2.9445407 , -4.80922   , -1.5871873 , -1.6890714 ,\n",
              "       -7.982438  , -0.36769903, -1.6544454 , -1.7574654 , -2.0612133 ,\n",
              "       -1.5871873 , -7.0831146 , -1.6846349 , -0.9098729 , -2.3446617 ,\n",
              "       -3.3015995 , -4.6285663 , -1.6839025 , -0.03483307, -1.4534366 ,\n",
              "       -3.638186  , -2.0800169 , -2.1681654 , -2.6404154 , -6.5474753 ,\n",
              "       -5.6015725 , -3.847148  , -2.997606  ,  0.25984204, -2.28183   ,\n",
              "       -4.208015  , -4.6272635 , -0.2957965 , -0.8847476 , -2.6079512 ,\n",
              "       -1.5601578 , -1.6294446 , -7.2935944 , -1.9496238 , -2.3281064 ,\n",
              "       -6.1525803 , -3.9546628 , -2.4538379 , -4.77496   , -2.4715466 ,\n",
              "       -0.631451  , -1.4851325 , -2.1589577 , -4.9123926 , -4.853517  ,\n",
              "       -0.1526649 , -3.4620275 , -5.2480583 , -1.7898891 , -3.5278444 ,\n",
              "       -1.4579859 , -4.9599633 ,  0.20120892, -0.93804395, -4.0814414 ,\n",
              "       -5.788784  , -0.40530056, -1.6690798 , -2.3822656 , -0.29164815,\n",
              "       -9.0264225 , -3.5822778 , -2.1795528 , -3.1420863 , -5.6270337 ,\n",
              "       -3.212313  , -4.693122  , -1.209333  , -2.0594878 , -4.4034657 ,\n",
              "       -6.916563  , -4.99868   , -1.0721474 , -6.966259  , -4.054942  ,\n",
              "       -2.8740175 , -4.71956   , -4.94456   , -6.3794527 , -2.5261729 ,\n",
              "       -1.4999219 , -1.8025665 , -3.2951078 , -2.9053788 , -0.03483307,\n",
              "       -1.2323807 , -2.3538241 , -4.378128  , -4.7734604 , -2.4687064 ,\n",
              "       -2.918869  , -1.5226264 ,  0.16212174, -4.4161615 , -4.215502  ,\n",
              "       -1.498041  , -2.569238  , -3.1474364 , -0.2957965 , -3.4832926 ,\n",
              "       -6.2195377 , -4.786704  , -1.4663824 , -0.9267986 , -2.0418675 ,\n",
              "       -4.114681  , -3.4373913 , -2.4185216 , -1.7894375 , -4.80922   ,\n",
              "       -7.982438  , -4.4242067 , -4.4480085 , -7.695676  , -2.0542314 ,\n",
              "       -0.9329841 , -1.5401208 , -0.11299169, -3.2388294 , -7.982438  ,\n",
              "       -4.4428434 , -1.6348565 , -3.697094  , -0.23661375, -4.5729165 ,\n",
              "       -6.7968936 , -0.27766544, -4.2361145 , -2.7239459 , -4.560762  ,\n",
              "       -5.8613043 , -4.3795156 , -1.6544454 , -2.296889  , -1.9882817 ,\n",
              "       -4.6558456 , -0.9267986 , -0.37828934, -3.8257399 , -2.4474185 ,\n",
              "       -5.926629  , -2.2945104 , -1.7942219 , -4.439997  , -4.0972724 ,\n",
              "       -5.200826  , -2.2945104 , -1.5297658 , -0.92484665, -4.547982  ,\n",
              "       -4.2702713 , -2.1479032 , -1.4736928 , -4.4399686 , -0.8311943 ,\n",
              "       -6.966259  , -3.2123387 , -1.4534366 , -1.5034323 , -2.739953  ,\n",
              "       -2.8096611 , -4.8981085 , -0.7344321 ,  0.44757995, -1.6895351 ,\n",
              "       -4.2309165 , -0.8658098 , -0.9856144 , -3.8561525 , -2.408573  ,\n",
              "       -1.6129067 , -0.9096284 , -4.4300733 , -2.5065422 , -0.94116354,\n",
              "       -1.6915307 , -2.424906  , -2.9906142 , -4.3711886 , -5.1586084 ,\n",
              "       -2.2945104 , -2.5833619 , -2.502283  , -3.3015995 , -3.561696  ,\n",
              "       -2.3440702 , -1.4622706 , -6.7968936 ,  0.06831649,  0.501915  ,\n",
              "       -1.4586254 , -2.8935893 , -4.7097297 , -0.8269454 ], dtype=float32)"
            ]
          },
          "metadata": {},
          "execution_count": 23
        }
      ]
    },
    {
      "cell_type": "code",
      "metadata": {
        "id": "-mv9KYCSSi66"
      },
      "source": [
        ""
      ],
      "execution_count": null,
      "outputs": []
    },
    {
      "cell_type": "markdown",
      "metadata": {
        "id": "g_380-LCSh53"
      },
      "source": [
        "# Scatter Plot"
      ]
    },
    {
      "cell_type": "code",
      "metadata": {
        "id": "dP1Rc89iSmXM"
      },
      "source": [
        "import matplotlib.pyplot as plt\n",
        "import numpy as np"
      ],
      "execution_count": 26,
      "outputs": []
    },
    {
      "cell_type": "code",
      "metadata": {
        "colab": {
          "base_uri": "https://localhost:8080/",
          "height": 283
        },
        "id": "67uy7l56Squh",
        "outputId": "4e6ebafa-b901-4648-c5fd-ee1eec1dc44b"
      },
      "source": [
        "plt.scatter(y_test, y_test_predict)"
      ],
      "execution_count": 24,
      "outputs": [
        {
          "output_type": "execute_result",
          "data": {
            "text/plain": [
              "<matplotlib.collections.PathCollection at 0x7f94e9fb86d0>"
            ]
          },
          "metadata": {},
          "execution_count": 24
        },
        {
          "output_type": "display_data",
          "data": {
            "image/png": "[encoded data removed]",
            "text/plain": [
              "<Figure size 432x288 with 1 Axes>"
            ]
          },
          "metadata": {
            "needs_background": "light"
          }
        }
      ]
    },
    {
      "cell_type": "code",
      "metadata": {
        "colab": {
          "base_uri": "https://localhost:8080/",
          "height": 352
        },
        "id": "NZr-DygtS5vr",
        "outputId": "99286892-c26d-41ff-db61-456ca4397b03"
      },
      "source": [
        "plt.figure(figsize=(5,5))\n",
        "plt.scatter(x=y_test, y=y_test_predict, c=\"#7CAE00\", alpha=0.3)\n",
        "\n",
        "# Add trendline\n",
        "# https://stackoverflow.com/questions/26447191/how-to-add-trendline-in-python-matplotlib-dot-scatter-graphs\n",
        "z = np.polyfit(y_test, y_test_predict, 1)\n",
        "p = np.poly1d(z)\n",
        "\n",
        "plt.plot(y_test,p(y_test),\"#F8766D\")\n",
        "plt.ylabel('Predicted LogS')\n",
        "plt.xlabel('Experimental LogS')"
      ],
      "execution_count": 30,
      "outputs": [
        {
          "output_type": "execute_result",
          "data": {
            "text/plain": [
              "Text(0.5, 0, 'Experimental LogS')"
            ]
          },
          "metadata": {},
          "execution_count": 30
        },
        {
          "output_type": "display_data",
          "data": {
            "image/png": "[encoded data removed]",
            "text/plain": [
              "<Figure size 360x360 with 1 Axes>"
            ]
          },
          "metadata": {
            "needs_background": "light"
          }
        }
      ]
    },
    {
      "cell_type": "code",
      "metadata": {
        "id": "n6VvioZ2TmHb"
      },
      "source": [
        ""
      ],
      "execution_count": null,
      "outputs": []
    },
    {
      "cell_type": "markdown",
      "metadata": {
        "id": "_zpOUE6qUE6Y"
      },
      "source": [
        "# Model Performance"
      ]
    },
    {
      "cell_type": "code",
      "metadata": {
        "id": "ihqpJyytUJGg"
      },
      "source": [
        "# Compute the MCC\n",
        "from sklearn.metrics import r2_score"
      ],
      "execution_count": 36,
      "outputs": []
    },
    {
      "cell_type": "code",
      "metadata": {
        "id": "-RtoixzpUcqj"
      },
      "source": [
        "r2= r2_score(y_test, y_test_predict)"
      ],
      "execution_count": 38,
      "outputs": []
    },
    {
      "cell_type": "code",
      "metadata": {
        "colab": {
          "base_uri": "https://localhost:8080/"
        },
        "id": "oyjgS4HyUknk",
        "outputId": "3db62027-ffa6-46b9-a86f-dc3817c7a774"
      },
      "source": [
        "print(round(r2, 3))"
      ],
      "execution_count": 40,
      "outputs": [
        {
          "output_type": "stream",
          "name": "stdout",
          "text": [
            "0.882\n"
          ]
        }
      ]
    }
  ]
}